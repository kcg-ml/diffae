{
 "cells": [
  {
   "metadata": {
    "ExecuteTime": {
     "end_time": "2025-03-03T02:32:59.986408Z",
     "start_time": "2025-03-03T02:32:33.741561Z"
    }
   },
   "cell_type": "code",
   "source": [
    "from PIL import Image\n",
    "\n",
    "import torch\n",
    "\n",
    "from torchvision.transforms import functional as VF\n",
    "\n",
    "from templates import ffhq256_autoenc, LitModel"
   ],
   "id": "53da58752a83d6df",
   "outputs": [
    {
     "name": "stderr",
     "output_type": "stream",
     "text": [
      "E:\\enanalytica_shanghai\\diffae\\metrics.py:10: TqdmWarning: IProgress not found. Please update jupyter and ipywidgets. See https://ipywidgets.readthedocs.io/en/stable/user_install.html\n",
      "  from tqdm.autonotebook import tqdm, trange\n"
     ]
    }
   ],
   "execution_count": 1
  },
  {
   "metadata": {
    "ExecuteTime": {
     "end_time": "2025-03-03T02:33:26.229021Z",
     "start_time": "2025-03-03T02:33:25.170628Z"
    }
   },
   "cell_type": "code",
   "source": [
    "device = 'cuda:0'\n",
    "\n",
    "conf = ffhq256_autoenc()\n",
    "\n",
    "model = LitModel(conf)"
   ],
   "id": "9e78bb2404a0eaf8",
   "outputs": [
    {
     "name": "stderr",
     "output_type": "stream",
     "text": [
      "Seed set to 0\n"
     ]
    },
    {
     "name": "stdout",
     "output_type": "stream",
     "text": [
      "Model params: 160.69 M\n"
     ]
    }
   ],
   "execution_count": 2
  },
  {
   "metadata": {},
   "cell_type": "code",
   "outputs": [],
   "execution_count": null,
   "source": [
    "# Load Image\n",
    "\n",
    "img = Image.open('example.jpg').resize((256, 256)).convert('RGB')\n",
    "\n",
    "\n",
    "\n",
    "# Convert to Tensor\n",
    "\n",
    "x = VF.to_tensor(img).unsqueeze(0).to(device)\n",
    "\n",
    "\n",
    "\n",
    "# Encode\n",
    "\n",
    "xt = model.encode_stochastic(x, cond, T=250)\n"
   ],
   "id": "fec9d058ecbb3ad6"
  }
 ],
 "metadata": {
  "kernelspec": {
   "name": "python3",
   "language": "python",
   "display_name": "Python 3 (ipykernel)"
  }
 },
 "nbformat": 5,
 "nbformat_minor": 9
}
